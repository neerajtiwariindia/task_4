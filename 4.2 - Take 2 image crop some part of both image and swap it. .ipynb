{
 "cells": [
  {
   "cell_type": "code",
   "execution_count": 36,
   "id": "33a5ce68",
   "metadata": {},
   "outputs": [],
   "source": [
    "import numpy as np\n",
    "import cv2\n"
   ]
  },
  {
   "cell_type": "code",
   "execution_count": 37,
   "id": "1ab6d4b4",
   "metadata": {},
   "outputs": [],
   "source": [
    "n = cv2.imread(\"a.png\")\n",
    "cv2.imshow(\"hi\",n)\n",
    "cv2.waitKey()\n",
    "cv2.destroyAllWindows()"
   ]
  },
  {
   "cell_type": "code",
   "execution_count": 38,
   "id": "c66121f9",
   "metadata": {},
   "outputs": [],
   "source": [
    "nt = cv2.imread(\"b.png\")\n",
    "cv2.imshow(\"hi\",nt)\n",
    "cv2.waitKey()\n",
    "cv2.destroyAllWindows()"
   ]
  },
  {
   "cell_type": "code",
   "execution_count": 39,
   "id": "f2f11e51",
   "metadata": {},
   "outputs": [
    {
     "data": {
      "text/plain": [
       "True"
      ]
     },
     "execution_count": 39,
     "metadata": {},
     "output_type": "execute_result"
    }
   ],
   "source": [
    "n_crop=n[300:450,200:300]\n",
    "cv2.imwrite(\"n_crop.jpeg\",n_crop)"
   ]
  },
  {
   "cell_type": "code",
   "execution_count": 40,
   "id": "56035c30",
   "metadata": {},
   "outputs": [
    {
     "data": {
      "text/plain": [
       "True"
      ]
     },
     "execution_count": 40,
     "metadata": {},
     "output_type": "execute_result"
    }
   ],
   "source": [
    "nt_crop=nt[300:450,200:300]\n",
    "cv2.imwrite(\"nt_crop.jpeg\",nt_crop)"
   ]
  },
  {
   "cell_type": "code",
   "execution_count": 43,
   "id": "5d761157",
   "metadata": {},
   "outputs": [],
   "source": [
    "n_crop = cv2.imread(\"n_crop.jpeg\")\n",
    "nt[300:450,200:300]=n_crop\n",
    "cv2.imshow(\"Swap\",nt)\n",
    "cv2.waitKey()\n",
    "cv2.destroyAllWindows()"
   ]
  },
  {
   "cell_type": "code",
   "execution_count": null,
   "id": "e02e3592",
   "metadata": {},
   "outputs": [],
   "source": []
  },
  {
   "cell_type": "code",
   "execution_count": null,
   "id": "054866fc",
   "metadata": {},
   "outputs": [],
   "source": []
  },
  {
   "cell_type": "code",
   "execution_count": null,
   "id": "ade81206",
   "metadata": {},
   "outputs": [],
   "source": []
  },
  {
   "cell_type": "code",
   "execution_count": null,
   "id": "21a350f5",
   "metadata": {},
   "outputs": [],
   "source": []
  }
 ],
 "metadata": {
  "kernelspec": {
   "display_name": "Python 3",
   "language": "python",
   "name": "python3"
  },
  "language_info": {
   "codemirror_mode": {
    "name": "ipython",
    "version": 3
   },
   "file_extension": ".py",
   "mimetype": "text/x-python",
   "name": "python",
   "nbconvert_exporter": "python",
   "pygments_lexer": "ipython3",
   "version": "3.8.8"
  }
 },
 "nbformat": 4,
 "nbformat_minor": 5
}
