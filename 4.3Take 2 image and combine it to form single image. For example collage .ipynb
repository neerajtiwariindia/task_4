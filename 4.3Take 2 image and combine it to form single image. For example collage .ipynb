{
 "cells": [
  {
   "cell_type": "code",
   "execution_count": 40,
   "id": "8e00d0b8",
   "metadata": {},
   "outputs": [],
   "source": [
    "import numpy as np\n",
    "import cv2\n",
    "bg = cv2.imread('a.png', cv2.IMREAD_COLOR) \n",
    "fg = cv2.imread('b.png', cv2.IMREAD_COLOR)"
   ]
  },
  {
   "cell_type": "code",
   "execution_count": 41,
   "id": "f70ad822",
   "metadata": {},
   "outputs": [],
   "source": [
    "cv2.imshow(\"1st\",bg)\n",
    "cv2.waitKey(0)\n",
    "cv2.destroyAllWindows()"
   ]
  },
  {
   "cell_type": "code",
   "execution_count": 42,
   "id": "3fef9455",
   "metadata": {},
   "outputs": [],
   "source": [
    "cv2.imshow(\"2nd\",fg)\n",
    "cv2.waitKey(0)\n",
    "cv2.destroyAllWindows()"
   ]
  },
  {
   "cell_type": "code",
   "execution_count": 43,
   "id": "35d56bf8",
   "metadata": {},
   "outputs": [
    {
     "data": {
      "text/plain": [
       "(1200, 900, 3)"
      ]
     },
     "execution_count": 43,
     "metadata": {},
     "output_type": "execute_result"
    }
   ],
   "source": [
    "bg.shape"
   ]
  },
  {
   "cell_type": "code",
   "execution_count": 44,
   "id": "7008fdcd",
   "metadata": {},
   "outputs": [
    {
     "data": {
      "text/plain": [
       "(1600, 1200, 3)"
      ]
     },
     "execution_count": 44,
     "metadata": {},
     "output_type": "execute_result"
    }
   ],
   "source": [
    "fg.shape"
   ]
  },
  {
   "cell_type": "code",
   "execution_count": 45,
   "id": "e720363f",
   "metadata": {},
   "outputs": [],
   "source": [
    "dim = (200, 200) \n",
    "resized_bg = cv2.resize(bg, dim, interpolation = cv2.INTER_AREA) \n",
    "resized_fg = cv2.resize(fg, dim, interpolation = cv2.INTER_AREA)"
   ]
  },
  {
   "cell_type": "code",
   "execution_count": 46,
   "id": "f0d27932",
   "metadata": {},
   "outputs": [],
   "source": [
    "m=np.hstack([resized_bg,resized_fg])"
   ]
  },
  {
   "cell_type": "code",
   "execution_count": 47,
   "id": "25e64cb5",
   "metadata": {},
   "outputs": [],
   "source": [
    "cv2.imshow(\"Final Collage\",m)\n",
    "cv2.waitKey(0)\n",
    "cv2.destroyAllWindows()"
   ]
  },
  {
   "cell_type": "code",
   "execution_count": null,
   "id": "3397b21d",
   "metadata": {},
   "outputs": [],
   "source": []
  }
 ],
 "metadata": {
  "kernelspec": {
   "display_name": "Python 3",
   "language": "python",
   "name": "python3"
  },
  "language_info": {
   "codemirror_mode": {
    "name": "ipython",
    "version": 3
   },
   "file_extension": ".py",
   "mimetype": "text/x-python",
   "name": "python",
   "nbconvert_exporter": "python",
   "pygments_lexer": "ipython3",
   "version": "3.8.8"
  }
 },
 "nbformat": 4,
 "nbformat_minor": 5
}
